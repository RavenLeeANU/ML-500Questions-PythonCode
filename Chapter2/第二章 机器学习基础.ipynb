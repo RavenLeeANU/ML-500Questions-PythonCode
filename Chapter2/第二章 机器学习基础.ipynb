{
 "cells": [
  {
   "cell_type": "markdown",
   "metadata": {},
   "source": [
    "#### 2.1 基本概念"
   ]
  },
  {
   "cell_type": "code",
   "execution_count": 32,
   "metadata": {},
   "outputs": [],
   "source": [
    "import numpy as np\n",
    "import math\n",
    "import matplotlib.pyplot as plt\n",
    "import random\n",
    "import copy"
   ]
  },
  {
   "cell_type": "markdown",
   "metadata": {},
   "source": [
    "##### 2.1.4 计算图的导数计算\n",
    "链式求导与反向传播的代码\n",
    "\n",
    "[例程参考](https://blog.csdn.net/weixin_38197294/article/details/79957504)"
   ]
  },
  {
   "cell_type": "code",
   "execution_count": 137,
   "metadata": {},
   "outputs": [],
   "source": [
    "def sigmoid(x):\n",
    "    u = 0\n",
    "    r = 1\n",
    "    return 1.0/(1.0+np.exp(-x))"
   ]
  },
  {
   "cell_type": "code",
   "execution_count": 138,
   "metadata": {},
   "outputs": [
    {
     "data": {
      "text/plain": [
       "[<matplotlib.lines.Line2D at 0x7fa8b27609e8>]"
      ]
     },
     "execution_count": 138,
     "metadata": {},
     "output_type": "execute_result"
    },
    {
     "data": {
      "image/png": "[encoded data removed]",
      "text/plain": [
       "<Figure size 432x288 with 1 Axes>"
      ]
     },
     "metadata": {
      "needs_background": "light"
     },
     "output_type": "display_data"
    }
   ],
   "source": [
    "x = [i * 2 for i in range(-20,20)]\n",
    "y = [sigmoid(j) for j in x]\n",
    "plt.plot(x,y)"
   ]
  },
  {
   "cell_type": "code",
   "execution_count": 3,
   "metadata": {},
   "outputs": [],
   "source": [
    "def d_sigmoid(x):\n",
    "    return x *(1 - x)"
   ]
  },
  {
   "cell_type": "code",
   "execution_count": 6,
   "metadata": {},
   "outputs": [
    {
     "name": "stdout",
     "output_type": "stream",
     "text": [
      "show forward result\n",
      "hidden layer net: [0.3775 0.3925]\n",
      "hidden layer out: [0.59326999 0.59688438]\n",
      "output layer net: [1.10590597 1.2249214 ]\n",
      "output layer out: [0.75136507 0.77292847]\n",
      "error output: [0.2240991  0.04677088]\n",
      "total error: 0.27086997892827946\n",
      "\n",
      "\n",
      "show backward result\n",
      "error by output: [0.7413650695523157, -0.21707153467853746]\n",
      "output by net: [0.1868156  0.17551005]\n",
      "net by out weight: [0.59326999 0.59688438]\n",
      "total by out weight: [ 0.08216704 -0.02274024]\n",
      "after updating output layer weights: [[0.35891647971788465, 0.40891647971788464], [0.5113701211079891, 0.5613701211079891]]\n",
      "error by hidden node [0.03635030639314468, 0.04137032264874471]\n",
      "total by input weight [0.00043857 0.00099543]\n",
      "after updating input layer weights [[0.1497807161327628, 0.19978071613276283], [0.24950228726473914, 0.29950228726473915]]\n",
      "show forward result\n",
      "hidden layer net: [0.37746711 0.39242534]\n",
      "hidden layer out: [0.59326206 0.59686641]\n",
      "output layer net: [1.05700004 1.23843946]\n",
      "output layer out: [0.74211683 0.77529226]\n",
      "\n",
      "\n",
      "error output: [0.22275048 0.04661485]\n",
      "total error: 0.2693653273922899\n",
      "\n",
      "\n"
     ]
    }
   ],
   "source": [
    "num_in,num_mid,num_out = 2,2,2\n",
    "label = np.array([0.01,0.99])\n",
    "\n",
    "#初始化\n",
    "input_node = np.array([0.05,0.1])\n",
    "hidden_net = np.zeros(num_mid) #计算结果\n",
    "hidden_output = np.zeros(num_mid)#加了激活函数之后的输出\n",
    "\n",
    "out_net = np.zeros(num_out)\n",
    "out_output = np.zeros(num_out)\n",
    "\n",
    "weight_layer1 = np.array([[0.15,0.2],[0.25,0.3]])\n",
    "weight_layer2 = np.array([[0.4,0.45],[0.5,0.55]])\n",
    "\n",
    "b = [0.35,0.6]\n",
    "\n",
    "\n",
    "#计算前向传播\n",
    "for i in range(num_mid):\n",
    "    hidden_net[i] = sum(input_node * weight_layer1[i,:]) + b[0]\n",
    "    hidden_output[i] = sigmoid(hidden_net[i])\n",
    "for i in range(num_out):\n",
    "    out_net[i] = sum(hidden_output * weight_layer2[i,:]) + b[1]\n",
    "    out_output[i] = sigmoid(out_net[i])\n",
    "print(\"show forward result\")\n",
    "print(\"hidden layer net:\",hidden_net)\n",
    "print(\"hidden layer out:\",hidden_output)\n",
    "\n",
    "print(\"output layer net:\",out_net)\n",
    "print(\"output layer out:\",out_output)\n",
    "\n",
    "# 计算误差(平方)\n",
    "err = 0.5 * np.square(label - sigmoid(out_output)) \n",
    "print(\"error output:\",err)\n",
    "total_err = sum(err)\n",
    "print(\"total error:\",total_err)\n",
    "print(\"\\n\")\n",
    "\n",
    "\n",
    "#反向传播(链式求导)\n",
    "#输出层更新\n",
    "print(\"show backward result\")\n",
    "d_ett_outout = [- (label[i] - out_output[i]) for i in range(num_out)]\n",
    "print(\"error by output:\",d_ett_outout)\n",
    "d_outout_outnet = d_sigmoid(out_output)\n",
    "print(\"output by net:\",d_outout_outnet)\n",
    "d_outnet_w2 = hidden_output\n",
    "print(\"net by out weight:\",d_outnet_w2)\n",
    "\n",
    "d_ett_w2 = d_ett_outout * d_outout_outnet * d_outnet_w2\n",
    "print(\"total by out weight:\",d_ett_w2)\n",
    "\n",
    "eta = 0.5\n",
    "update_w2 = [(weight_layer2[i,:] - eta * d_ett_w2[i]).tolist() for i in range(num_out)]\n",
    "print(\"after updating output layer weights:\",update_w2)\n",
    "\n",
    "#输入层权重更新\n",
    "d_ett_hidden = [sum(d_ett_outout* d_outout_outnet * weight_layer2[:,i]) for i in range(num_mid)]\n",
    "print(\"error by hidden node\",d_ett_hidden)\n",
    "\n",
    "\n",
    "d_hidden_neth = d_sigmoid(hidden_output)\n",
    "d_neth_w1 = input_node\n",
    "d_ett_w1 = d_ett_hidden * d_hidden_neth * d_neth_w1 \n",
    "print(\"total by input weight\",d_ett_w1)\n",
    "update_w1 = [(weight_layer1[i,:] - eta * d_ett_w1[i]).tolist() for i in range(num_mid)]\n",
    "print(\"after updating input layer weights\",update_w1)\n",
    "\n",
    "#检查最终下降效果\n",
    "update_w1 = np.array(update_w1)\n",
    "update_w2 = np.array(update_w2)\n",
    "for i in range(num_mid):\n",
    "    hidden_net[i] = sum(input_node * update_w1[i,:]) + b[0]\n",
    "    hidden_output[i] = sigmoid(hidden_net[i])\n",
    "for i in range(num_out):\n",
    "    out_net[i] = sum(hidden_output * update_w2[i,:]) + b[1]\n",
    "    out_output[i] = sigmoid(out_net[i])\n",
    "print(\"show forward result\")\n",
    "print(\"hidden layer net:\",hidden_net)\n",
    "print(\"hidden layer out:\",hidden_output)\n",
    "\n",
    "print(\"output layer net:\",out_net)\n",
    "print(\"output layer out:\",out_output)\n",
    "\n",
    "print(\"\\n\")\n",
    "err = 0.5 * np.square(label - sigmoid(out_output)) \n",
    "print(\"error output:\",err)\n",
    "total_err = sum(err)\n",
    "print(\"total error:\",total_err)\n",
    "print(\"\\n\")\n"
   ]
  },
  {
   "cell_type": "markdown",
   "metadata": {},
   "source": [
    "##### ROC，PR曲线\n",
    "PR曲线绘制 [参考](https://zhuanlan.zhihu.com/p/78182116)"
   ]
  },
  {
   "cell_type": "code",
   "execution_count": 131,
   "metadata": {},
   "outputs": [],
   "source": [
    "label = np.array([1,1,0,1,1,1,0,0,1,0,1,0,1,0,0,0,1,0,1,0,1])\n",
    "score = np.array([0.9,0.8,0.4,0.7,0.65,0.64,0.33,0.32,0.31,0.305,0.6,0.39,0.58,0.37,0.55,0.37,0.67,0.2,0.8,0.3,0.8])"
   ]
  },
  {
   "cell_type": "code",
   "execution_count": 132,
   "metadata": {},
   "outputs": [
    {
     "name": "stderr",
     "output_type": "stream",
     "text": [
      "/Users/ravenlee/anaconda3/lib/python3.7/site-packages/ipykernel_launcher.py:17: RuntimeWarning: invalid value encountered in long_scalars\n"
     ]
    }
   ],
   "source": [
    "ps = []\n",
    "rs = []\n",
    "tpr = []\n",
    "fpr = []\n",
    "for i in range(1,20):\n",
    "    thresh= i * 0.05\n",
    "    predict = (score > thresh).astype(np.int_)\n",
    "    \n",
    "    tp = sum(label & predict)\n",
    "    fp = sum((1 - label) &  predict)\n",
    "    fn = sum((1 - label) & (1 - predict))\n",
    "    tn = sum( label & (1 - predict))\n",
    "\n",
    "    tpr.append(tp / (tp + fn))\n",
    "    fpr.append(fp / (fp + tn))\n",
    "    \n",
    "    ps.append(tp / (tp + fp))\n",
    "    rs.append(tp / (fn + tp))"
   ]
  },
  {
   "cell_type": "code",
   "execution_count": 133,
   "metadata": {},
   "outputs": [
    {
     "data": {
      "text/plain": [
       "[<matplotlib.lines.Line2D at 0x7fa8b2578d30>]"
      ]
     },
     "execution_count": 133,
     "metadata": {},
     "output_type": "execute_result"
    },
    {
     "data": {
      "image/png": "[encoded data removed]",
      "text/plain": [
       "<Figure size 432x288 with 1 Axes>"
      ]
     },
     "metadata": {
      "needs_background": "light"
     },
     "output_type": "display_data"
    }
   ],
   "source": [
    "plt.plot(rs,ps)"
   ]
  },
  {
   "cell_type": "markdown",
   "metadata": {},
   "source": [
    "ROC曲线绘制"
   ]
  },
  {
   "cell_type": "code",
   "execution_count": 134,
   "metadata": {},
   "outputs": [
    {
     "data": {
      "text/plain": [
       "[<matplotlib.lines.Line2D at 0x7fa8b25d0198>]"
      ]
     },
     "execution_count": 134,
     "metadata": {},
     "output_type": "execute_result"
    },
    {
     "data": {
      "image/png": "[encoded data removed]",
      "text/plain": [
       "<Figure size 432x288 with 1 Axes>"
      ]
     },
     "metadata": {
      "needs_background": "light"
     },
     "output_type": "display_data"
    }
   ],
   "source": [
    "plt.plot(fpr,tpr)"
   ]
  },
  {
   "cell_type": "markdown",
   "metadata": {},
   "source": [
    "#### 2.9 逻辑回归的实现\n",
    "\n",
    "梯度下降法求解损失函数\n",
    "\n",
    "https://zhuanlan.zhihu.com/p/46928319\n",
    "\n",
    "https://zhuanlan.zhihu.com/p/102873308"
   ]
  },
  {
   "cell_type": "code",
   "execution_count": 139,
   "metadata": {},
   "outputs": [],
   "source": [
    "# 数据准备\n",
    "a1 = [[random.random() + 0.5,random.random() + 0.5,1] for i in range(50)]\n",
    "a2 = [[random.random(),random.random(),1] for i in range(50)]\n",
    "\n",
    "x_input = a1 + a2\n",
    "a1,a2 = [0] * 50,[1] * 50\n",
    "y_label = a1 + a2"
   ]
  },
  {
   "cell_type": "code",
   "execution_count": 140,
   "metadata": {},
   "outputs": [],
   "source": [
    "def gradient(x_input,y_label):\n",
    "    data = np.mat(x_input)\n",
    "    label = np.mat(y_label).transpose()\n",
    "    m,n = np.shape(data)\n",
    "    lr = 0.001\n",
    "    iter_num = 500    \n",
    "    theta = np.ones((n,1))\n",
    "    for i in range(iter_num):\n",
    "        h = sigmoid(data * theta)\n",
    "        error = (h - label)\n",
    "        theta = theta - lr * data.transpose() * error\n",
    "    \n",
    "    return theta.tolist()"
   ]
  },
  {
   "cell_type": "code",
   "execution_count": 170,
   "metadata": {},
   "outputs": [
    {
     "data": {
      "text/plain": [
       "[<matplotlib.lines.Line2D at 0x7fa8b2fa9e48>]"
      ]
     },
     "execution_count": 170,
     "metadata": {},
     "output_type": "execute_result"
    },
    {
     "data": {
      "image/png": "[encoded data removed]",
      "text/plain": [
       "<Figure size 432x288 with 1 Axes>"
      ]
     },
     "metadata": {
      "needs_background": "light"
     },
     "output_type": "display_data"
    }
   ],
   "source": [
    "w = gradient(x_input,y_label)\n",
    "x_ay = np.array(x_input)\n",
    "plt.scatter(x_ay[:,0],x_ay[:,1],c=y_label)\n",
    "plt.plot([0,1],[-w[2][0]/w[0][0],-(1 * w[0][0]+w[2][0])/w[1][0]])\n",
    "#plt.plot([0,-w[2][0]/w[0][0]],[1,-(1 * w[0][0]+w[2][0])/w[1][0]])"
   ]
  },
  {
   "cell_type": "markdown",
   "metadata": {},
   "source": [
    "#### 线性回归\n",
    "线性回归与最小二乘法\n",
    "\n",
    "https://zhuanlan.zhihu.com/p/144189187?from_voters_page=true"
   ]
  },
  {
   "cell_type": "code",
   "execution_count": 155,
   "metadata": {},
   "outputs": [],
   "source": [
    "a1 = [[random.random() + i * 0.4,random.random() + i*0.4] for i in range(50)]"
   ]
  },
  {
   "cell_type": "code",
   "execution_count": 161,
   "metadata": {},
   "outputs": [],
   "source": [
    "def fit(X_train, y_train):\n",
    "    numerator, denominator = 0, 0\n",
    "    for i in range(len(X_train)):\n",
    "        numerator += (X_train[i] - np.mean(X_train)) * (y_train[i] - np.mean(y_train))\n",
    "        denominator += (X_train[i] - np.mean(X_train))**2\n",
    "    a_ = numerator / denominator\n",
    "    b_ = np.mean(y_train) - a_ * np.mean(X_train)\n",
    "    return a_,b_\n",
    "\n",
    "def predict(X_predict):\n",
    "    return a_ * X_predict + b_"
   ]
  },
  {
   "cell_type": "code",
   "execution_count": 166,
   "metadata": {},
   "outputs": [
    {
     "name": "stdout",
     "output_type": "stream",
     "text": [
      "1.0064574486931372 -0.0771542866963646\n"
     ]
    }
   ],
   "source": [
    "a,b = fit(a1[:,0],a1[:,1])\n",
    "print(a,b)"
   ]
  },
  {
   "cell_type": "code",
   "execution_count": 171,
   "metadata": {},
   "outputs": [
    {
     "data": {
      "text/plain": [
       "[<matplotlib.lines.Line2D at 0x7fa8b393be48>]"
      ]
     },
     "execution_count": 171,
     "metadata": {},
     "output_type": "execute_result"
    },
    {
     "data": {
      "image/png": "[encoded data removed]",
      "text/plain": [
       "<Figure size 432x288 with 1 Axes>"
      ]
     },
     "metadata": {
      "needs_background": "light"
     },
     "output_type": "display_data"
    }
   ],
   "source": [
    "a1 = np.array(a1)\n",
    "plt.scatter(a1[:,0],a1[:,1])\n",
    "plt.plot([0,20],[0,20*a+b],c='r')"
   ]
  },
  {
   "cell_type": "markdown",
   "metadata": {},
   "source": [
    "##### 2.17 决策树"
   ]
  },
  {
   "cell_type": "markdown",
   "metadata": {},
   "source": [
    "##### SVM"
   ]
  },
  {
   "cell_type": "markdown",
   "metadata": {},
   "source": [
    "##### Bayes"
   ]
  },
  {
   "cell_type": "markdown",
   "metadata": {},
   "source": [
    "##### K-means"
   ]
  }
 ],
 "metadata": {
  "kernelspec": {
   "display_name": "Python 3",
   "language": "python",
   "name": "python3"
  },
  "language_info": {
   "codemirror_mode": {
    "name": "ipython",
    "version": 3
   },
   "file_extension": ".py",
   "mimetype": "text/x-python",
   "name": "python",
   "nbconvert_exporter": "python",
   "pygments_lexer": "ipython3",
   "version": "3.7.1"
  }
 },
 "nbformat": 4,
 "nbformat_minor": 2
}
