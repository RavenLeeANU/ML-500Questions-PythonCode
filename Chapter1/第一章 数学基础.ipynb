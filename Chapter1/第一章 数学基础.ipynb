{
 "cells": [
  {
   "cell_type": "markdown",
   "metadata": {},
   "source": [
    "### 第一章 数学基础"
   ]
  },
  {
   "cell_type": "code",
   "execution_count": 3,
   "metadata": {},
   "outputs": [],
   "source": [
    "import math\n",
    "import numpy as np"
   ]
  },
  {
   "cell_type": "markdown",
   "metadata": {},
   "source": [
    "#### 1.1向量和矩阵\n",
    "##### 1.1.1标量，向量，矩阵，张量之间的关系"
   ]
  },
  {
   "cell_type": "code",
   "execution_count": 8,
   "metadata": {},
   "outputs": [
    {
     "name": "stdout",
     "output_type": "stream",
     "text": [
      "scalar: 1\n",
      "a 3 dimensional vector: [1, 1, 1]\n",
      "3x3 matrix: [[1, 1, 1], [1, 1, 1], [1, 1, 1]]\n",
      "3x3x3 tensor [[[1. 1. 1.]\n",
      "  [1. 1. 1.]\n",
      "  [1. 1. 1.]]\n",
      "\n",
      " [[1. 1. 1.]\n",
      "  [1. 1. 1.]\n",
      "  [1. 1. 1.]]\n",
      "\n",
      " [[1. 1. 1.]\n",
      "  [1. 1. 1.]\n",
      "  [1. 1. 1.]]]\n"
     ]
    }
   ],
   "source": [
    "n = 3\n",
    "value = 1\n",
    "scalar = value\n",
    "print(\"scalar:\",scalar)\n",
    "vector = [value] * n\n",
    "print(\"a 3 dimensional vector:\",vector)\n",
    "matrix = [[value] * n] * n\n",
    "print(\"3x3 matrix:\",matrix)\n",
    "tensor = np.ones((n,n,n))\n",
    "print(\"3x3x3 tensor\",tensor)"
   ]
  },
  {
   "cell_type": "markdown",
   "metadata": {},
   "source": [
    "##### 1.1.4 向量和矩阵范数归纳\n",
    "向量的范数"
   ]
  },
  {
   "cell_type": "code",
   "execution_count": 6,
   "metadata": {},
   "outputs": [],
   "source": [
    "vec = [-5,6,8,-10]"
   ]
  },
  {
   "cell_type": "code",
   "execution_count": 7,
   "metadata": {},
   "outputs": [
    {
     "data": {
      "text/plain": [
       "29"
      ]
     },
     "execution_count": 7,
     "metadata": {},
     "output_type": "execute_result"
    }
   ],
   "source": [
    "def L1_norm(vec):\n",
    "    return sum([abs(i) for i in vec])\n",
    "L1_norm(vec)"
   ]
  },
  {
   "cell_type": "code",
   "execution_count": 12,
   "metadata": {},
   "outputs": [
    {
     "data": {
      "text/plain": [
       "15.0"
      ]
     },
     "execution_count": 12,
     "metadata": {},
     "output_type": "execute_result"
    }
   ],
   "source": [
    "def L2_norm(vec):\n",
    "    return math.sqrt(sum([abs(i**2) for i in vec]))\n",
    "L2_norm(vec)"
   ]
  },
  {
   "cell_type": "code",
   "execution_count": 15,
   "metadata": {},
   "outputs": [
    {
     "data": {
      "text/plain": [
       "5"
      ]
     },
     "execution_count": 15,
     "metadata": {},
     "output_type": "execute_result"
    }
   ],
   "source": [
    "def minus_inf_norm(vec):\n",
    "    return min([abs(i) for i in vec])\n",
    "minus_inf_norm(vec)"
   ]
  },
  {
   "cell_type": "code",
   "execution_count": 16,
   "metadata": {},
   "outputs": [
    {
     "data": {
      "text/plain": [
       "10"
      ]
     },
     "execution_count": 16,
     "metadata": {},
     "output_type": "execute_result"
    }
   ],
   "source": [
    "def inf_norm(vec):\n",
    "    return max([abs(i) for i in vec])\n",
    "inf_norm(vec)"
   ]
  },
  {
   "cell_type": "code",
   "execution_count": 34,
   "metadata": {},
   "outputs": [
    {
     "data": {
      "text/plain": [
       "18.586072512249974"
      ]
     },
     "execution_count": 34,
     "metadata": {},
     "output_type": "execute_result"
    }
   ],
   "source": [
    "def p_norm(vec,p):\n",
    "    return math.pow(sum([math.pow(abs(i),p) for i in vec]),1/p)\n",
    "p_norm(vec,1.5)"
   ]
  },
  {
   "cell_type": "markdown",
   "metadata": {},
   "source": [
    "矩阵的范数"
   ]
  },
  {
   "cell_type": "code",
   "execution_count": 38,
   "metadata": {},
   "outputs": [],
   "source": [
    "A = [[-1,2,-3],[4,-6,6]]"
   ]
  },
  {
   "cell_type": "code",
   "execution_count": 87,
   "metadata": {},
   "outputs": [
    {
     "data": {
      "text/plain": [
       "[5, 8, 9]"
      ]
     },
     "execution_count": 87,
     "metadata": {},
     "output_type": "execute_result"
    }
   ],
   "source": [
    "def matrix_L1_norm(mat):\n",
    "    B = np.array(mat)\n",
    "    return [sum(abs(B[:,i])) for i in range(len(mat[0]))]\n",
    "matrix_L1_norm(A)"
   ]
  },
  {
   "cell_type": "code",
   "execution_count": 79,
   "metadata": {},
   "outputs": [
    {
     "data": {
      "text/plain": [
       "10.062274996520644"
      ]
     },
     "execution_count": 79,
     "metadata": {},
     "output_type": "execute_result"
    }
   ],
   "source": [
    "def matrix_L2_norm(mat):\n",
    "    e,_ = np.linalg.eig(np.matmul(np.transpose(mat),mat))\n",
    "    return np.sqrt(max(e))\n",
    "matrix_L2_norm(A)"
   ]
  },
  {
   "cell_type": "code",
   "execution_count": 88,
   "metadata": {},
   "outputs": [
    {
     "data": {
      "text/plain": [
       "16"
      ]
     },
     "execution_count": 88,
     "metadata": {},
     "output_type": "execute_result"
    }
   ],
   "source": [
    "def matrix_inf_norm(mat):\n",
    "    B = np.array(mat)\n",
    "    return max([sum(abs(B[i,:])) for i in range(len(mat))])\n",
    "matrix_inf_norm(A)"
   ]
  },
  {
   "cell_type": "code",
   "execution_count": 89,
   "metadata": {},
   "outputs": [
    {
     "data": {
      "text/plain": [
       "10.928659376802019"
      ]
     },
     "execution_count": 89,
     "metadata": {},
     "output_type": "execute_result"
    }
   ],
   "source": [
    "def matrix_svd_norm(mat):\n",
    "    s,v,d = np.linalg.svd(mat)\n",
    "    return sum(v)\n",
    "matrix_svd_norm(A)"
   ]
  },
  {
   "cell_type": "code",
   "execution_count": 99,
   "metadata": {},
   "outputs": [
    {
     "data": {
      "text/plain": [
       "6"
      ]
     },
     "execution_count": 99,
     "metadata": {},
     "output_type": "execute_result"
    }
   ],
   "source": [
    "def matrix_L0_norm(mat):\n",
    "    return np.count_nonzero(mat)\n",
    "matrix_L0_norm(A)"
   ]
  },
  {
   "cell_type": "code",
   "execution_count": 107,
   "metadata": {},
   "outputs": [
    {
     "data": {
      "text/plain": [
       "22"
      ]
     },
     "execution_count": 107,
     "metadata": {},
     "output_type": "execute_result"
    }
   ],
   "source": [
    "def matrix_L1_norm(mat):\n",
    "    return sum(sum(abs(np.array(mat))))\n",
    "matrix_L1_norm(A)"
   ]
  },
  {
   "cell_type": "code",
   "execution_count": 115,
   "metadata": {},
   "outputs": [
    {
     "data": {
      "text/plain": [
       "10.099504938362077"
      ]
     },
     "execution_count": 115,
     "metadata": {},
     "output_type": "execute_result"
    }
   ],
   "source": [
    "def matrix_L2_norm(mat):#F\n",
    "    return np.sqrt(sum(sum(np.array(A)**2)))\n",
    "matrix_L2_norm(A)"
   ]
  },
  {
   "cell_type": "code",
   "execution_count": 164,
   "metadata": {},
   "outputs": [
    {
     "data": {
      "text/plain": [
       "10.099504938362077"
      ]
     },
     "execution_count": 164,
     "metadata": {},
     "output_type": "execute_result"
    }
   ],
   "source": [
    "def matrix_L21_norm(mat):\n",
    "    return sum(np.sqrt([sum(abs(B[:,i]) ** 2) for i in range(len(A[0]))]))\n",
    "matrix_L2_norm(A)"
   ]
  },
  {
   "cell_type": "code",
   "execution_count": 175,
   "metadata": {},
   "outputs": [
    {
     "data": {
      "text/plain": [
       "27.321264091116483"
      ]
     },
     "execution_count": 175,
     "metadata": {},
     "output_type": "execute_result"
    }
   ],
   "source": [
    "def matrix_p_norm(mat,p):\n",
    "    return np.sqrt(sum(sum(abs(np.array(A))**p)))\n",
    "matrix_p_norm(A,3.2)"
   ]
  },
  {
   "cell_type": "markdown",
   "metadata": {},
   "source": [
    "##### 1.1.5 判断矩阵正定\n",
    "求解特征值"
   ]
  },
  {
   "cell_type": "code",
   "execution_count": 9,
   "metadata": {},
   "outputs": [
    {
     "data": {
      "text/plain": [
       "array([[ 1.,  0.,  0.],\n",
       "       [ 0.,  1.,  0.],\n",
       "       [ 0.,  0., -1.]])"
      ]
     },
     "execution_count": 9,
     "metadata": {},
     "output_type": "execute_result"
    }
   ],
   "source": [
    "eye_mat = np.eye(3)\n",
    "eye_mat[2,2] = -1\n",
    "eye_mat"
   ]
  },
  {
   "cell_type": "code",
   "execution_count": 10,
   "metadata": {},
   "outputs": [
    {
     "data": {
      "text/plain": [
       "False"
      ]
     },
     "execution_count": 10,
     "metadata": {},
     "output_type": "execute_result"
    }
   ],
   "source": [
    "def check_positive_definite(mat):\n",
    "    e,v = np.linalg.eig(mat)\n",
    "    return True if len(e[e>=0]) == len(e) else False\n",
    "check_positive_definite(eye_mat)"
   ]
  },
  {
   "cell_type": "markdown",
   "metadata": {},
   "source": [
    "#### 1.2 导数和偏导数\n",
    "##### 导数偏导计算\n",
    "略"
   ]
  },
  {
   "cell_type": "markdown",
   "metadata": {},
   "source": [
    "#### 1.3 特征值和特征向量\n",
    "1.3.1 特征值分解与特征向量"
   ]
  },
  {
   "cell_type": "code",
   "execution_count": 12,
   "metadata": {},
   "outputs": [],
   "source": [
    "fea = [[1,2,2],[3,1,2],[5,6,7]]"
   ]
  },
  {
   "cell_type": "code",
   "execution_count": 13,
   "metadata": {},
   "outputs": [
    {
     "name": "stdout",
     "output_type": "stream",
     "text": [
      "[10.25782193 -1.33106165  0.07323972]\n"
     ]
    }
   ],
   "source": [
    "eigenvalues,eigenvectors = np.linalg.eig(fea)\n",
    "print(eigenvalues)"
   ]
  },
  {
   "cell_type": "markdown",
   "metadata": {},
   "source": [
    "满足特性"
   ]
  },
  {
   "cell_type": "code",
   "execution_count": 15,
   "metadata": {},
   "outputs": [
    {
     "name": "stdout",
     "output_type": "stream",
     "text": [
      "[2.6738351  2.9113442  9.46560044]\n",
      "[2.6738351  2.9113442  9.46560044]\n",
      "\n",
      "[-0.55203295  1.11542972 -0.4720183 ]\n",
      "[-0.55203295  1.11542972 -0.4720183 ]\n"
     ]
    }
   ],
   "source": [
    "print(\"first\")\n",
    "print(np.matmul(fea,eigenvectors[:,0]))\n",
    "print(eigenvectors[:,0] * eigenvalues[0])\n",
    "print(\"second\")\n",
    "print(np.matmul(fea,eigenvectors[:,1]))\n",
    "print(eigenvectors[:,1] * eigenvalues[1])\n",
    "print(\"third\")\n",
    "print(np.matmul(fea,eigenvectors[:,1]))\n",
    "print(eigenvectors[:,1] * eigenvalues[1])"
   ]
  },
  {
   "cell_type": "markdown",
   "metadata": {},
   "source": [
    "##### 1.3.2奇异值与特征值的关系\n",
    "\n",
    "[参考](https://zhuanlan.zhihu.com/p/353637184)\n",
    "\n",
    "- 特征向量是所有向量中经过线性变换(乘以变换矩阵)后，方向不变的向量，可能存在也可能不存在\n",
    "- 奇异向量，每个维度拉伸效果最大的方向，一定存在"
   ]
  },
  {
   "cell_type": "markdown",
   "metadata": {},
   "source": [
    "右奇异阵的转置和特征向量相等"
   ]
  },
  {
   "cell_type": "code",
   "execution_count": 33,
   "metadata": {
    "scrolled": true
   },
   "outputs": [
    {
     "name": "stdout",
     "output_type": "stream",
     "text": [
      "svd\n",
      "[[-0.50398193 -0.81343046 -0.29040161]\n",
      " [-0.55504866  0.56262574 -0.61267712]\n",
      " [-0.66175765  0.14759117  0.7350467 ]]\n",
      "eigen vectors\n",
      "[[-0.50398193 -0.81343046 -0.29040161]\n",
      " [-0.55504866  0.56262574 -0.61267712]\n",
      " [-0.66175765  0.14759117  0.7350467 ]]\n"
     ]
    }
   ],
   "source": [
    "s,v,d = np.linalg.svd(fea)\n",
    "print(\"svd\")\n",
    "print(d.T)\n",
    "\n",
    "eigs,vec = np.linalg.eig(np.matmul(np.transpose(fea),fea))\n",
    "print(\"eigen vectors\")\n",
    "print(vec)"
   ]
  },
  {
   "cell_type": "markdown",
   "metadata": {},
   "source": [
    "#### 1.4 概率分布与随机变量\n",
    "- 概率质量函数：离散概率分布\n",
    "- 概率密度函数：连续概率分布"
   ]
  },
  {
   "cell_type": "markdown",
   "metadata": {},
   "source": [
    "#### 1.5常见概率分布\n",
    "- 伯努利分布：0-1分布\n",
    "- 高斯分布：正态分布\n",
    "- 指数分布\n",
    "- 拉普拉斯分布\n",
    "- Dirac分布"
   ]
  },
  {
   "cell_type": "code",
   "execution_count": 35,
   "metadata": {},
   "outputs": [
    {
     "data": {
      "image/png": "[encoded data removed]",
      "text/plain": [
       "<Figure size 432x288 with 9 Axes>"
      ]
     },
     "metadata": {
      "needs_background": "light"
     },
     "output_type": "display_data"
    }
   ],
   "source": [
    "import random\n",
    "import matplotlib\n",
    "import matplotlib.pyplot as plt\n",
    "SAMPLE_SIZE = 1000\n",
    "buckets = 100\n",
    "fig = plt.figure()\n",
    "matplotlib.rcParams.update({\"font.size\": 7})\n",
    "#第一个图形是在[0,1)之间分布的随机变量（normal distributed random variable）。\n",
    "ax = fig.add_subplot(5,2,1)\n",
    "ax.set_xlabel(\"random.random\")\n",
    "res = [random.random() for _ in range(1, SAMPLE_SIZE)]\n",
    "ax.hist(res, buckets)\n",
    "#第二个图形是一个均匀分布的随机变量（uniformly distributed random variable）。\n",
    "ax_2 = fig.add_subplot(5,2,2)\n",
    "ax_2.set_xlabel(\"random.uniform\")\n",
    "a = 1\n",
    "b = SAMPLE_SIZE\n",
    "res_2 = [random.uniform(a, b) for _ in range(1, SAMPLE_SIZE)]\n",
    "ax_2.hist(res_2, buckets)\n",
    "#第三个图形是一个三角形分布（triangular distribution）。\n",
    "ax_3 = fig.add_subplot(5,2,3)\n",
    "ax_3.set_xlabel(\"random.triangular\")\n",
    "low = 1\n",
    "high = SAMPLE_SIZE\n",
    "res_3 = [random.uniform(low, high) for _ in range(1, SAMPLE_SIZE)]\n",
    "ax_3.hist(res_3, buckets)\n",
    "#第四个图形是一个beta分布（beta distribution）。参数的条件是alpha 和 beta 都要大于0， 返回值在0~1之间。\n",
    "plt.subplot(5,2,4)\n",
    "plt.xlabel(\"random.betavariate\")\n",
    "alpha = 1\n",
    "beta = 10\n",
    "res_4 = [random.betavariate(alpha, beta) for _ in range(1, SAMPLE_SIZE)]\n",
    "plt.hist(res_4, buckets)\n",
    "#第五个图形是一个指数分布（exponential distribution）。 lambd 的值是 1.0 除以期望的中值，是一个不为零的数（参数应该叫做lambda没但它是python的一个保留字）。如果lambd是整数，返回值的范围是零到正无穷大；如果lambd为负，返回值的范围是负无穷大到零。\n",
    "plt.subplot(5,2,5)\n",
    "plt.xlabel(\"random.expovariate\")\n",
    "lambd = 1.0/ ((SAMPLE_SIZE + 1) / 2.)\n",
    "res_5 = [random.expovariate(lambd) for _ in range(1, SAMPLE_SIZE)]\n",
    "plt.hist(res_5, buckets)\n",
    "#第六个图形是gamma分布（gamma distribution）， 要求参数alpha 和beta都大于零。\n",
    "plt.subplot(5,2,6)\n",
    "plt.xlabel(\"random.gammavariate\")\n",
    "alpha = 1\n",
    "beta = 10\n",
    "res_6 = [random.gammavariate(alpha, beta) for _ in range(1, SAMPLE_SIZE)]\n",
    "plt.hist(res_6, buckets)\n",
    "#第七个图形是对数正态分布（Log normal distribution）。如果取这个分布的自然对数，会得到一个中值为mu，标准差为sigma的正态分布。mu可以取任何值，sigma必须大于零。\n",
    "plt.subplot(5,2,7)\n",
    "plt.xlabel(\"random.lognormalvariate\")\n",
    "mu = 1\n",
    "sigma = 0.5\n",
    "res_7 = [random.lognormvariate(mu, sigma) for _ in range(1, SAMPLE_SIZE)]\n",
    "plt.hist(res_7, buckets)\n",
    "#第八个图形是正态分布（normal distribution）。\n",
    "plt.subplot(5,2,8)\n",
    "plt.xlabel(\"random.normalvariate\")\n",
    "mu = 1\n",
    "sigma = 0.5\n",
    "res_8 = [random.normalvariate(mu, sigma) for _ in range(1, SAMPLE_SIZE)]\n",
    "plt.hist(res_8, buckets)\n",
    " \n",
    "#最后一个图形是帕累托分布（Pareto distribution）， alpha 是形状参数。\n",
    "plt.subplot(5,2,9)\n",
    "plt.xlabel(\"random.normalvariate\")\n",
    "alpha = 1\n",
    "res_9 = [random.paretovariate(alpha) for _ in range(1, SAMPLE_SIZE)]\n",
    "plt.hist(res_9, buckets)\n",
    "plt.show()"
   ]
  },
  {
   "cell_type": "code",
   "execution_count": null,
   "metadata": {},
   "outputs": [],
   "source": []
  }
 ],
 "metadata": {
  "kernelspec": {
   "display_name": "Python 3",
   "language": "python",
   "name": "python3"
  },
  "language_info": {
   "codemirror_mode": {
    "name": "ipython",
    "version": 3
   },
   "file_extension": ".py",
   "mimetype": "text/x-python",
   "name": "python",
   "nbconvert_exporter": "python",
   "pygments_lexer": "ipython3",
   "version": "3.7.1"
  }
 },
 "nbformat": 4,
 "nbformat_minor": 2
}
